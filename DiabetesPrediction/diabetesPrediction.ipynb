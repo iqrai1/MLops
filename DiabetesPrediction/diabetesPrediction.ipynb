{
 "cells": [
  {
   "cell_type": "code",
   "execution_count": null,
   "id": "efeec3a1",
   "metadata": {},
   "outputs": [],
   "source": [
    "!pip install -U gradio\n",
    "!pip install -U joblib\n",
    "!pip install -U typing-extensions"
   ]
  },
  {
   "cell_type": "code",
   "execution_count": null,
   "id": "1353b889",
   "metadata": {},
   "outputs": [],
   "source": [
    "import joblib\n",
    "import pandas\n",
    "from sklearn import model_selection"
   ]
  },
  {
   "cell_type": "code",
   "execution_count": null,
   "id": "0b7302d4",
   "metadata": {},
   "outputs": [],
   "source": [
    "url = \"https://raw.githubusercontent.com/jbrownlee/Datasets/master/pima-indians-diabetes.data.csv\"\n",
    "names = ['preg', 'plas', 'pres', 'skin', 'test', 'mass', 'pedi', 'age', 'class']\n",
    "dataframe = pandas.read_csv(url, names=names)\n",
    "array = dataframe.values\n",
    "X = array[:,0:8]\n",
    "Y = array[:,8]\n",
    "X_train, X_test, Y_train, Y_test = model_selection.train_test_split(X, Y, test_size=0.33, random_state=42)"
   ]
  },
  {
   "cell_type": "code",
   "execution_count": null,
   "id": "95e98448",
   "metadata": {},
   "outputs": [],
   "source": [
    "X_train[11]"
   ]
  },
  {
   "cell_type": "code",
   "execution_count": null,
   "id": "e21319e5",
   "metadata": {
    "scrolled": true
   },
   "outputs": [],
   "source": [
    "# load the model from disk\n",
    "loaded_model = joblib.load('finalized_model.sav')\n",
    "result = loaded_model.score(X_test, Y_test)\n",
    "\n",
    "print(loaded_model.predict([[  2.   , 100.   ,  64.   ,  23.   ,   0.   ,  29.7  ,   0.368, 21.   ]]))\n"
   ]
  },
  {
   "cell_type": "code",
   "execution_count": null,
   "id": "4dfb9b08",
   "metadata": {},
   "outputs": [],
   "source": [
    "import gradio as gr\n",
    "import joblib\n",
    "\n",
    "def predict_diabetes(Pregnancies, Glucose, BloodPressure, SkinThickness, Insulin, BMI, DiabetesPedigreeFunction, Age):\n",
    "    # Load the model from disk\n",
    "    loaded_model = joblib.load('finalized_model.sav')\n",
    "    prediction = loaded_model.predict([[float(Pregnancies), float(Glucose), float(BloodPressure), float(SkinThickness), float(Insulin), float(BMI), float(DiabetesPedigreeFunction), float(Age)]])\n",
    "    if prediction[0] == 1:\n",
    "        return \"Diabetes Positive\"\n",
    "    else:\n",
    "        return \"Diabetes Negative\"\n",
    "    \n",
    "# Custom CSS to style the interface\n",
    "css = \"\"\"\n",
    "body { background-color: #333; }\n",
    "h1 { color: white; font-weight: bold; }\n",
    ".label, p, .input_area { color: white; }\n",
    "\"\"\"\n",
    "\n",
    "inputs=[\n",
    "        gr.Number(label=\"Pregnancies\", step=1),\n",
    "        gr.Number(label=\"Glucose\", step=1),\n",
    "        gr.Number(label=\"Blood Pressure\", step=1),\n",
    "        gr.Number(label=\"Skin Thickness\", step=1),\n",
    "        gr.Number(label=\"Insulin\", step=1),\n",
    "        gr.Number(label=\"BMI\", step=0.1),\n",
    "        gr.Number(label=\"Diabetes Pedigree Function\", step=0.01),\n",
    "        gr.Number(label=\"Age\", step=1)\n",
    "]\n",
    "\n",
    "demo = gr.Interface(\n",
    "    fn=predict_diabetes,\n",
    "    inputs=inputs,\n",
    "    outputs=\"text\",\n",
    "    title=\"Diabetes Prediction Model\",\n",
    "    description=\"Enter the following details to predict whether the patient is diabetes positive or not.\",\n",
    "    css=css\n",
    ")\n",
    "demo.launch(debug=True)\n"
   ]
  },
  {
   "cell_type": "code",
   "execution_count": null,
   "id": "efdeb79f",
   "metadata": {},
   "outputs": [],
   "source": []
  }
 ],
 "metadata": {
  "kernelspec": {
   "display_name": "Python 3 (ipykernel)",
   "language": "python",
   "name": "python3"
  },
  "language_info": {
   "codemirror_mode": {
    "name": "ipython",
    "version": 3
   },
   "file_extension": ".py",
   "mimetype": "text/x-python",
   "name": "python",
   "nbconvert_exporter": "python",
   "pygments_lexer": "ipython3",
   "version": "3.10.9"
  }
 },
 "nbformat": 4,
 "nbformat_minor": 5
}
